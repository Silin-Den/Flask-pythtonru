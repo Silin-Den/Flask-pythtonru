{
 "cells": [
  {
   "cell_type": "code",
   "execution_count": 2,
   "id": "54a512e0",
   "metadata": {},
   "outputs": [],
   "source": [
    "import requests"
   ]
  },
  {
   "cell_type": "code",
   "execution_count": null,
   "id": "6e2b70b2",
   "metadata": {},
   "outputs": [],
   "source": [
    "# %load main2.py\n",
    "from flask import Flask, request, current_app, make_response\n",
    "\n",
    "app = Flask(__name__)\n",
    "\n",
    "@app.route('/')\n",
    "def requestdata():\n",
    "    return \"Hello! Your IP is {} and you are using {}: \".format(request.remote_addr,  \n",
    "                                                                request.user_agent)\n",
    "\n",
    "@app.route('/user/<int:user_id>/')\n",
    "def user_profile(user_id):\n",
    "    return \"Profile page of user #{}\".format(user_id)\n",
    "\n",
    "@app.route('/books/<genre>/')\n",
    "def books(genre):\n",
    "    # return \"All Books in {} category\".format(genre)\n",
    "    res = make_response(\"All Books in {} category\".format(genre))\n",
    "    res.headers['Content-Type'] = 'text/plain'\n",
    "    res.headers['Server'] = 'Foobar'\n",
    "    return res\n",
    "\n",
    "@app.route('/set-cookie')\n",
    "def set_cookie():\n",
    "    res = make_response(\"Cookie setter\")\n",
    "    res.set_cookie(\"favorite-color\", \"skyblue\")\n",
    "    res.set_cookie(\"favorite-font\", \"sans-serif\")\n",
    "    return res\n",
    "\n",
    "app.route('/transfer')\n",
    "def transfer():\n",
    "    return \"\", 302, {'location': 'https://localhost:5000/login'}    \n",
    "\n",
    "\n",
    "if __name__ == \"__main__\":\n",
    "    app.run(debug=True)\n"
   ]
  },
  {
   "cell_type": "code",
   "execution_count": null,
   "id": "a685595a",
   "metadata": {},
   "outputs": [],
   "source": []
  },
  {
   "cell_type": "code",
   "execution_count": 22,
   "id": "2183b7e5",
   "metadata": {},
   "outputs": [],
   "source": [
    "res = requests.get('http://127.0.0.1:5000/books/story/')"
   ]
  },
  {
   "cell_type": "code",
   "execution_count": 23,
   "id": "c75aa2a6",
   "metadata": {},
   "outputs": [
    {
     "data": {
      "text/plain": [
       "{'Content-Type': 'text/plain', 'Content-Length': '27', 'Server': 'Foobar', 'Date': 'Mon, 24 Jan 2022 06:41:24 GMT'}"
      ]
     },
     "execution_count": 23,
     "metadata": {},
     "output_type": "execute_result"
    }
   ],
   "source": [
    "res.headers"
   ]
  },
  {
   "cell_type": "code",
   "execution_count": 24,
   "id": "5940e1d9",
   "metadata": {},
   "outputs": [
    {
     "data": {
      "text/plain": [
       "'All Books in story category'"
      ]
     },
     "execution_count": 24,
     "metadata": {},
     "output_type": "execute_result"
    }
   ],
   "source": [
    "res.text"
   ]
  },
  {
   "cell_type": "code",
   "execution_count": 9,
   "id": "e5297200",
   "metadata": {},
   "outputs": [],
   "source": [
    "res = requests.get('http://127.0.0.1:5000/')"
   ]
  },
  {
   "cell_type": "code",
   "execution_count": 10,
   "id": "9717210a",
   "metadata": {},
   "outputs": [
    {
     "data": {
      "text/plain": [
       "'Hello! Your IP is 127.0.0.1 and you are using python-requests/2.27.1: '"
      ]
     },
     "execution_count": 10,
     "metadata": {},
     "output_type": "execute_result"
    }
   ],
   "source": [
    "res.text"
   ]
  },
  {
   "cell_type": "code",
   "execution_count": 16,
   "id": "531a8be2",
   "metadata": {},
   "outputs": [
    {
     "name": "stdout",
     "output_type": "stream",
     "text": [
      "Writing main3.py\n"
     ]
    }
   ],
   "source": [
    "# %%writefile main3.py\n",
    "# @app.route('/set-cookie')\n",
    "# def set_cookie():\n",
    "#     res = make_response(\"Cookie setter\")\n",
    "#     res.set_cookie(\"favorite-color\", \"skyblue\")\n",
    "#     res.set_cookie(\"favorite-font\", \"sans-serif\")\n",
    "#     return res"
   ]
  },
  {
   "cell_type": "code",
   "execution_count": 25,
   "id": "7cb09a27",
   "metadata": {},
   "outputs": [],
   "source": [
    "res = requests.get('http://127.0.0.1:5000/transfer')"
   ]
  },
  {
   "cell_type": "code",
   "execution_count": 26,
   "id": "1a5de488",
   "metadata": {},
   "outputs": [
    {
     "data": {
      "text/plain": [
       "<Response [404]>"
      ]
     },
     "execution_count": 26,
     "metadata": {},
     "output_type": "execute_result"
    }
   ],
   "source": [
    "res"
   ]
  },
  {
   "cell_type": "markdown",
   "id": "15763870",
   "metadata": {},
   "source": [
    "## jinja2"
   ]
  },
  {
   "cell_type": "code",
   "execution_count": 27,
   "id": "d22dd7df",
   "metadata": {},
   "outputs": [],
   "source": [
    "from jinja2 import Template"
   ]
  },
  {
   "cell_type": "code",
   "execution_count": 46,
   "id": "ae66e9e7",
   "metadata": {},
   "outputs": [],
   "source": [
    "class Foo:\n",
    "    \n",
    "    name=\"FOO\"\n",
    "    \n",
    "    def __init__(self, i):\n",
    "        self.i = i\n",
    "        \n",
    "    def do_something(self):\n",
    "        return \"do_something() called\"\n",
    "    \n",
    "    def __str__(self):\n",
    "        return \"This is an instance of Foo class\""
   ]
  },
  {
   "cell_type": "code",
   "execution_count": 47,
   "id": "8c5dddc2",
   "metadata": {},
   "outputs": [
    {
     "name": "stdout",
     "output_type": "stream",
     "text": [
      "13\n",
      "hello\n",
      "2\n",
      "Manager\n",
      "python\n",
      "This is an instance of Foo class\n",
      "Value FOO 5\n",
      "do_something() called\n"
     ]
    }
   ],
   "source": [
    "for _ in (Template(\"{{ 10 + 3 }}\").render(),\n",
    " Template(\"{{ var }}\").render(var=\"hello\"),\n",
    " Template(\"{{ var[1] }}\").render(var=[1,2,3]),\n",
    " Template(\"{{ var['profession'] }}\").render(var={'name':'tom', 'age': 25, 'profession': 'Manager' }),\n",
    " Template(\"{{ var[2] }}\").render(var=(\"c\", \"c++\", \"python\")),\n",
    " Template(\"{{ var }}\").render(var=Foo(1)),\n",
    " Template(\"Value {{obj.name}} {{ obj.i }}\").render(obj=Foo(5)),\n",
    " Template(\"{{ obj.do_something() }}\").render(obj=Foo(5))\n",
    "         ):print(_)"
   ]
  },
  {
   "cell_type": "code",
   "execution_count": 37,
   "id": "2517e473",
   "metadata": {},
   "outputs": [
    {
     "data": {
      "text/plain": [
       "'foo() called'"
      ]
     },
     "execution_count": 37,
     "metadata": {},
     "output_type": "execute_result"
    }
   ],
   "source": [
    "def foo():\n",
    "    return \"foo() called\"\n",
    "Template(\"{{ foo() }}\").render(foo=foo)"
   ]
  },
  {
   "cell_type": "code",
   "execution_count": 51,
   "id": "74dae23d",
   "metadata": {},
   "outputs": [
    {
     "data": {
      "text/plain": [
       "'<ul><li></li><li></li><li></li></ul>}'"
      ]
     },
     "execution_count": 51,
     "metadata": {},
     "output_type": "execute_result"
    }
   ],
   "source": [
    "Template(\"{% set user_list = ['tom', 'jerry', 'spike'] %}<ul>\\\n",
    "{% for user in user_list %}<li>{{ ser }}</li>{% endfor %}</ul>}\").render()"
   ]
  },
  {
   "cell_type": "code",
   "execution_count": 54,
   "id": "b0b38ca0",
   "metadata": {},
   "outputs": [
    {
     "name": "stdout",
     "output_type": "stream",
     "text": [
      "Overwriting main.py\n"
     ]
    }
   ],
   "source": [
    "%%writefile main.py\n",
    "# %load main.py\n",
    "from flask import Flask, render_template, make_response, current_app, url_for, request\n",
    "from flask_script import Manager, Command, Shell\n",
    "\n",
    "\n",
    "app = Flask(__name__)\n",
    "manager = Manager(app)\n",
    "\n",
    "\n",
    "@app.route('/')\n",
    "def index():\n",
    "    name, age, profession = \"Jerry\", 24, 'Programmer'\n",
    "    template_context = dict(name=name, age=age, profession=profession)\n",
    "    return render_template('index.html', **template_context)\n",
    "\n",
    "\n",
    "@app.route('/user/<int:user_id>/')\n",
    "def user_profile(user_id):\n",
    "    return \"Profile page of user # {}\".format(user_id)\n",
    "\n",
    "\n",
    "@app.route('/books/<genre>/')\n",
    "def books(genre):\n",
    "    # return \"All Books in {} category\".format(genre)\n",
    "    res = make_response(\"All Books in {} category\".format(genre))\n",
    "    res.headers['Content-Type'] = 'text/plain'\n",
    "    res.headers['Server'] = 'Foobar'\n",
    "    return res\n",
    "\n",
    "@app.route('/login/', methods=['post', 'get'])\n",
    "\n",
    "def login():\n",
    "    message = ''\n",
    "    if request.method == 'POST':\n",
    "        username = request.form.get('username')  # запрос к данным формы\n",
    "        password = request.form.get('password')\n",
    "\n",
    "\n",
    "    if username == 'root' and password == 'pass':\n",
    "        message = \"Correct username and password\"\n",
    "    else:\n",
    "        message = \"Wrong username or password\"\n",
    "\n",
    "    return render_template('login.html', message=message)\n",
    "\n",
    "\n",
    "class Faker(Command):\n",
    "    'Команда для добавления поддельных данных в таблицы'\n",
    "    def run(self):\n",
    "        # логика функции\n",
    "        print(\"Fake data entered\")\n",
    "\n",
    "manager.add_command(\"faker\", Faker())\n",
    "\n",
    "\n",
    "@manager.command\n",
    "def foo():\n",
    "    \"Это созданная команда\"\n",
    "    print(\"foo command executed\")\n",
    "\n",
    "\n",
    "\n",
    "def shell_context():\n",
    "    import os, sys\n",
    "    return dict(app=app, os=os, sys=sys)\n",
    "\n",
    "manager.add_command(\"shell\", Shell(make_context=shell_context))\n",
    "\n",
    "\n",
    "if __name__ == \"__main__\":\n",
    "    manager.run()\n",
    "\n",
    "\n"
   ]
  },
  {
   "cell_type": "code",
   "execution_count": 56,
   "id": "2a92dd96",
   "metadata": {},
   "outputs": [],
   "source": [
    "!source env/bin/activate"
   ]
  },
  {
   "cell_type": "code",
   "execution_count": 58,
   "id": "ddbffa18",
   "metadata": {},
   "outputs": [
    {
     "ename": "ModuleNotFoundError",
     "evalue": "No module named 'flask_wtf'",
     "output_type": "error",
     "traceback": [
      "\u001b[0;31m---------------------------------------------------------------------------\u001b[0m",
      "\u001b[0;31mModuleNotFoundError\u001b[0m                       Traceback (most recent call last)",
      "Input \u001b[0;32mIn [58]\u001b[0m, in \u001b[0;36m<module>\u001b[0;34m\u001b[0m\n\u001b[0;32m----> 1\u001b[0m \u001b[38;5;28;01mfrom\u001b[39;00m \u001b[38;5;21;01mforms\u001b[39;00m \u001b[38;5;28;01mimport\u001b[39;00m ContactForm\n",
      "File \u001b[0;32m~/Flask/Flask-pythtonru/forms.py:1\u001b[0m, in \u001b[0;36m<module>\u001b[0;34m\u001b[0m\n\u001b[0;32m----> 1\u001b[0m \u001b[38;5;28;01mfrom\u001b[39;00m \u001b[38;5;21;01mflask_wtf\u001b[39;00m \u001b[38;5;28;01mimport\u001b[39;00m FlaskForm\n\u001b[1;32m      2\u001b[0m \u001b[38;5;28;01mfrom\u001b[39;00m \u001b[38;5;21;01mwtforms\u001b[39;00m \u001b[38;5;28;01mimport\u001b[39;00m StringField, SubmitField, TextAreaField\n\u001b[1;32m      3\u001b[0m \u001b[38;5;28;01mfrom\u001b[39;00m \u001b[38;5;21;01mwtforms\u001b[39;00m\u001b[38;5;21;01m.\u001b[39;00m\u001b[38;5;21;01mvalidators\u001b[39;00m \u001b[38;5;28;01mimport\u001b[39;00m DataRequired, Email\n",
      "\u001b[0;31mModuleNotFoundError\u001b[0m: No module named 'flask_wtf'"
     ]
    }
   ],
   "source": [
    "from forms import ContactForm"
   ]
  },
  {
   "cell_type": "code",
   "execution_count": null,
   "id": "75f0bc12",
   "metadata": {},
   "outputs": [],
   "source": []
  }
 ],
 "metadata": {
  "kernelspec": {
   "display_name": "Python 3 (ipykernel)",
   "language": "python",
   "name": "python3"
  },
  "language_info": {
   "codemirror_mode": {
    "name": "ipython",
    "version": 3
   },
   "file_extension": ".py",
   "mimetype": "text/x-python",
   "name": "python",
   "nbconvert_exporter": "python",
   "pygments_lexer": "ipython3",
   "version": "3.10.0"
  }
 },
 "nbformat": 4,
 "nbformat_minor": 5
}
