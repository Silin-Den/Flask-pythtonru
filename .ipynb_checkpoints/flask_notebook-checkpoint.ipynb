{
 "cells": [
  {
   "cell_type": "code",
   "execution_count": 2,
   "id": "f318a647",
   "metadata": {},
   "outputs": [],
   "source": [
    "import requests"
   ]
  },
  {
   "cell_type": "code",
   "execution_count": null,
   "id": "09807629",
   "metadata": {},
   "outputs": [],
   "source": [
    "# %load main2.py\n",
    "from flask import Flask, request, current_app, make_response\n",
    "\n",
    "app = Flask(__name__)\n",
    "\n",
    "@app.route('/')\n",
    "def requestdata():\n",
    "    return \"Hello! Your IP is {} and you are using {}: \".format(request.remote_addr,  \n",
    "                                                                request.user_agent)\n",
    "\n",
    "@app.route('/user/<int:user_id>/')\n",
    "def user_profile(user_id):\n",
    "    return \"Profile page of user #{}\".format(user_id)\n",
    "\n",
    "@app.route('/books/<genre>/')\n",
    "def books(genre):\n",
    "    # return \"All Books in {} category\".format(genre)\n",
    "    res = make_response(\"All Books in {} category\".format(genre))\n",
    "    res.headers['Content-Type'] = 'text/plain'\n",
    "    res.headers['Server'] = 'Foobar'\n",
    "    return res\n",
    "\n",
    "@app.route('/set-cookie')\n",
    "def set_cookie():\n",
    "    res = make_response(\"Cookie setter\")\n",
    "    res.set_cookie(\"favorite-color\", \"skyblue\")\n",
    "    res.set_cookie(\"favorite-font\", \"sans-serif\")\n",
    "    return res\n",
    "\n",
    "app.route('/transfer')\n",
    "def transfer():\n",
    "    return \"\", 302, {'location': 'https://localhost:5000/login'}    \n",
    "\n",
    "\n",
    "if __name__ == \"__main__\":\n",
    "    app.run(debug=True)\n"
   ]
  },
  {
   "cell_type": "code",
   "execution_count": null,
   "id": "bc3b6e63",
   "metadata": {},
   "outputs": [],
   "source": []
  },
  {
   "cell_type": "code",
   "execution_count": 22,
   "id": "5f8bf95b",
   "metadata": {},
   "outputs": [],
   "source": [
    "res = requests.get('http://127.0.0.1:5000/books/story/')"
   ]
  },
  {
   "cell_type": "code",
   "execution_count": 23,
   "id": "09544a87",
   "metadata": {},
   "outputs": [
    {
     "data": {
      "text/plain": [
       "{'Content-Type': 'text/plain', 'Content-Length': '27', 'Server': 'Foobar', 'Date': 'Mon, 24 Jan 2022 06:41:24 GMT'}"
      ]
     },
     "execution_count": 23,
     "metadata": {},
     "output_type": "execute_result"
    }
   ],
   "source": [
    "res.headers"
   ]
  },
  {
   "cell_type": "code",
   "execution_count": 24,
   "id": "d03aff78",
   "metadata": {},
   "outputs": [
    {
     "data": {
      "text/plain": [
       "'All Books in story category'"
      ]
     },
     "execution_count": 24,
     "metadata": {},
     "output_type": "execute_result"
    }
   ],
   "source": [
    "res.text"
   ]
  },
  {
   "cell_type": "code",
   "execution_count": 9,
   "id": "aac3d502",
   "metadata": {},
   "outputs": [],
   "source": [
    "res = requests.get('http://127.0.0.1:5000/')"
   ]
  },
  {
   "cell_type": "code",
   "execution_count": 10,
   "id": "8f3fa965",
   "metadata": {},
   "outputs": [
    {
     "data": {
      "text/plain": [
       "'Hello! Your IP is 127.0.0.1 and you are using python-requests/2.27.1: '"
      ]
     },
     "execution_count": 10,
     "metadata": {},
     "output_type": "execute_result"
    }
   ],
   "source": [
    "res.text"
   ]
  },
  {
   "cell_type": "code",
   "execution_count": 16,
   "id": "84e3bbec",
   "metadata": {},
   "outputs": [
    {
     "name": "stdout",
     "output_type": "stream",
     "text": [
      "Writing main3.py\n"
     ]
    }
   ],
   "source": [
    "# %%writefile main3.py\n",
    "# @app.route('/set-cookie')\n",
    "# def set_cookie():\n",
    "#     res = make_response(\"Cookie setter\")\n",
    "#     res.set_cookie(\"favorite-color\", \"skyblue\")\n",
    "#     res.set_cookie(\"favorite-font\", \"sans-serif\")\n",
    "#     return res"
   ]
  },
  {
   "cell_type": "code",
   "execution_count": 25,
   "id": "f22522c6",
   "metadata": {},
   "outputs": [],
   "source": [
    "res = requests.get('http://127.0.0.1:5000/transfer')"
   ]
  },
  {
   "cell_type": "code",
   "execution_count": 26,
   "id": "9857ba12",
   "metadata": {},
   "outputs": [
    {
     "data": {
      "text/plain": [
       "<Response [404]>"
      ]
     },
     "execution_count": 26,
     "metadata": {},
     "output_type": "execute_result"
    }
   ],
   "source": [
    "res"
   ]
  },
  {
   "cell_type": "markdown",
   "id": "7456d04a",
   "metadata": {},
   "source": [
    "## jinja2"
   ]
  },
  {
   "cell_type": "code",
   "execution_count": 27,
   "id": "9e65874c",
   "metadata": {},
   "outputs": [],
   "source": [
    "from jinja2 import Template"
   ]
  },
  {
   "cell_type": "code",
   "execution_count": 46,
   "id": "605455cb",
   "metadata": {},
   "outputs": [],
   "source": [
    "class Foo:\n",
    "    \n",
    "    name=\"FOO\"\n",
    "    \n",
    "    def __init__(self, i):\n",
    "        self.i = i\n",
    "        \n",
    "    def do_something(self):\n",
    "        return \"do_something() called\"\n",
    "    \n",
    "    def __str__(self):\n",
    "        return \"This is an instance of Foo class\""
   ]
  },
  {
   "cell_type": "code",
   "execution_count": 47,
   "id": "9fc0eb45",
   "metadata": {},
   "outputs": [
    {
     "name": "stdout",
     "output_type": "stream",
     "text": [
      "13\n",
      "hello\n",
      "2\n",
      "Manager\n",
      "python\n",
      "This is an instance of Foo class\n",
      "Value FOO 5\n",
      "do_something() called\n"
     ]
    }
   ],
   "source": [
    "for _ in (Template(\"{{ 10 + 3 }}\").render(),\n",
    " Template(\"{{ var }}\").render(var=\"hello\"),\n",
    " Template(\"{{ var[1] }}\").render(var=[1,2,3]),\n",
    " Template(\"{{ var['profession'] }}\").render(var={'name':'tom', 'age': 25, 'profession': 'Manager' }),\n",
    " Template(\"{{ var[2] }}\").render(var=(\"c\", \"c++\", \"python\")),\n",
    " Template(\"{{ var }}\").render(var=Foo(1)),\n",
    " Template(\"Value {{obj.name}} {{ obj.i }}\").render(obj=Foo(5)),\n",
    " Template(\"{{ obj.do_something() }}\").render(obj=Foo(5))\n",
    "         ):print(_)"
   ]
  },
  {
   "cell_type": "code",
   "execution_count": 37,
   "id": "9bfcf955",
   "metadata": {},
   "outputs": [
    {
     "data": {
      "text/plain": [
       "'foo() called'"
      ]
     },
     "execution_count": 37,
     "metadata": {},
     "output_type": "execute_result"
    }
   ],
   "source": [
    "def foo():\n",
    "    return \"foo() called\"\n",
    "Template(\"{{ foo() }}\").render(foo=foo)"
   ]
  },
  {
   "cell_type": "code",
   "execution_count": 51,
   "id": "edbf0147",
   "metadata": {},
   "outputs": [
    {
     "data": {
      "text/plain": [
       "'<ul><li></li><li></li><li></li></ul>}'"
      ]
     },
     "execution_count": 51,
     "metadata": {},
     "output_type": "execute_result"
    }
   ],
   "source": [
    "Template(\"{% set user_list = ['tom', 'jerry', 'spike'] %}<ul>\\\n",
    "{% for user in user_list %}<li>{{ ser }}</li>{% endfor %}</ul>}\").render()"
   ]
  },
  {
   "cell_type": "code",
   "execution_count": null,
   "id": "77cee4dd",
   "metadata": {},
   "outputs": [],
   "source": [
    "# %load main.py\n",
    "from flask import Flask, render_template, make_response, current_app, url_for, request\n",
    "from flask_script import Manager, Command, Shell\n",
    "\n",
    "\n",
    "app = Flask(__name__)\n",
    "manager = Manager(app)\n",
    "\n",
    "\n",
    "@app.route('/')\n",
    "def index():\n",
    "    name, age, profession = \"Jerry\", 24, 'Programmer'\n",
    "    template_context = dict(name=name, age=age, profession=profession)\n",
    "    return render_template('index.html', **template_context)\n",
    "\n",
    "\n",
    "@app.route('/user/<int:user_id>/')\n",
    "def user_profile(user_id):\n",
    "    return \"Profile page of user # {}\".format(user_id)\n",
    "\n",
    "\n",
    "@app.route('/books/<genre>/')\n",
    "def books(genre):\n",
    "    # return \"All Books in {} category\".format(genre)\n",
    "    res = make_response(\"All Books in {} category\".format(genre))\n",
    "    res.headers['Content-Type'] = 'text/plain'\n",
    "    res.headers['Server'] = 'Foobar'\n",
    "    return res\n",
    "\n",
    "@app.route('/login/', methods=['post', 'get'])\n",
    "\n",
    "def login():\n",
    "    message = ''\n",
    "    if request.method == 'POST':\n",
    "        username = request.form.get('username')  # запрос к данным формы\n",
    "        password = request.form.get('password')\n",
    "\n",
    "\n",
    "    if username == 'root' and password == 'pass':\n",
    "        message = \"Correct username and password\"\n",
    "    else:\n",
    "        message = \"Wrong username or password\"\n",
    "\n",
    "    return render_template('login.html', message=message)\n",
    "\n",
    "\n",
    "class Faker(Command):\n",
    "    'Команда для добавления поддельных данных в таблицы'\n",
    "    def run(self):\n",
    "        # логика функции\n",
    "        print(\"Fake data entered\")\n",
    "\n",
    "manager.add_command(\"faker\", Faker())\n",
    "\n",
    "\n",
    "@manager.command\n",
    "def foo():\n",
    "    \"Это созданная команда\"\n",
    "    print(\"foo command executed\")\n",
    "\n",
    "\n",
    "\n",
    "def shell_context():\n",
    "    import os, sys\n",
    "    return dict(app=app, os=os, sys=sys)\n",
    "\n",
    "manager.add_command(\"shell\", Shell(make_context=shell_context))\n",
    "\n",
    "\n",
    "if __name__ == \"__main__\":\n",
    "    manager.run()\n",
    "\n",
    "\n"
   ]
  },
  {
   "cell_type": "code",
   "execution_count": null,
   "id": "41e96d7b",
   "metadata": {},
   "outputs": [],
   "source": []
  }
 ],
 "metadata": {
  "kernelspec": {
   "display_name": "Python 3 (ipykernel)",
   "language": "python",
   "name": "python3"
  },
  "language_info": {
   "codemirror_mode": {
    "name": "ipython",
    "version": 3
   },
   "file_extension": ".py",
   "mimetype": "text/x-python",
   "name": "python",
   "nbconvert_exporter": "python",
   "pygments_lexer": "ipython3",
   "version": "3.10.0"
  }
 },
 "nbformat": 4,
 "nbformat_minor": 5
}
